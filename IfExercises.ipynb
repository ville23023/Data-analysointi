{
 "cells": [
  {
   "cell_type": "code",
   "execution_count": 1,
   "metadata": {},
   "outputs": [],
   "source": [
    "number1=5\n",
    "number2=4"
   ]
  },
  {
   "cell_type": "code",
   "execution_count": 4,
   "metadata": {},
   "outputs": [
    {
     "name": "stdout",
     "output_type": "stream",
     "text": [
      "numbers are not equal\n",
      "number1 is bigger than number2\n",
      "number1 is bigger or equal to number2\n"
     ]
    }
   ],
   "source": [
    "if number1==number2:\n",
    "    print('number1 and number2 are equal')\n",
    "else:\n",
    "    print('numbers are not equal')\n",
    "\n",
    "if number1>number2:\n",
    "    print('number1 is bigger than number2')\n",
    "else:\n",
    "    print('number1 is not bigger than number2')\n",
    "\n",
    "if number1>=number2:\n",
    "    print('number1 is bigger or equal to number2')\n",
    "else:\n",
    "    print('number1 is not bigger nor equal to number2')    \n",
    "\n"
   ]
  },
  {
   "cell_type": "code",
   "execution_count": 15,
   "metadata": {},
   "outputs": [],
   "source": [
    "number1=3\n",
    "number2=6\n",
    "number3=3"
   ]
  },
  {
   "cell_type": "code",
   "execution_count": 16,
   "metadata": {},
   "outputs": [
    {
     "name": "stdout",
     "output_type": "stream",
     "text": [
      "numbers are not equal\n",
      "none of the numbers are equal\n",
      "number 2 or 3 is greater than number1\n",
      "number2 is bigger than number3\n",
      "number 1 and 3 are equal\n"
     ]
    }
   ],
   "source": [
    "if number1==number2 & number2==number3 & number1==number3:\n",
    "    print('numbers are equal')\n",
    "else:\n",
    "    print('numbers are not equal')\n",
    "    \n",
    "if number1==number2 or number2==number3:\n",
    "    print('numbers 1 and 2 or 2 and 3 are equal')\n",
    "else:\n",
    "    print('none of the numbers are equal')\n",
    "\n",
    "if number1>number2 & number1>number3:\n",
    "    print('number1 is greater than numbers 2 and 3')\n",
    "else:\n",
    "    print('number 2 or 3 is greater than number1')\n",
    "\n",
    "if number1>number2:\n",
    "    print('number1 is bigger than number2')\n",
    "elif number2>number3:\n",
    "    print('number2 is bigger than number3')\n",
    "\n",
    "if number1==number2:\n",
    "    print('number 1 and 2 are equal')\n",
    "elif number1==number3:\n",
    "    print('number 1 and 3 are equal')\n"
   ]
  },
  {
   "cell_type": "code",
   "execution_count": 23,
   "metadata": {},
   "outputs": [],
   "source": [
    "name1=\"ville\"\n",
    "name2=\"valle\"\n",
    "name3=\"ville\""
   ]
  },
  {
   "cell_type": "code",
   "execution_count": 24,
   "metadata": {},
   "outputs": [
    {
     "name": "stdout",
     "output_type": "stream",
     "text": [
      "names are not equal\n",
      "name 1 and 3 are equal\n"
     ]
    }
   ],
   "source": [
    "if name1==name2:\n",
    "    print('names are equal')\n",
    "\n",
    "if name1!=name2:\n",
    "    print('names are not equal')\n",
    "\n",
    "if name1==name2:\n",
    "    print('names are equal')\n",
    "elif name1==name3:\n",
    "    print('name 1 and 3 are equal')"
   ]
  }
 ],
 "metadata": {
  "kernelspec": {
   "display_name": "Python 3",
   "language": "python",
   "name": "python3"
  },
  "language_info": {
   "codemirror_mode": {
    "name": "ipython",
    "version": 3
   },
   "file_extension": ".py",
   "mimetype": "text/x-python",
   "name": "python",
   "nbconvert_exporter": "python",
   "pygments_lexer": "ipython3",
   "version": "3.12.0"
  }
 },
 "nbformat": 4,
 "nbformat_minor": 2
}
