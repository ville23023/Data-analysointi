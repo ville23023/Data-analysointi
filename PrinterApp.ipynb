{
 "cells": [
  {
   "cell_type": "code",
   "execution_count": 47,
   "metadata": {},
   "outputs": [],
   "source": [
    "creator=\"kake\"\n",
    "number1=9\n",
    "number2=3\n",
    "multiplication=number1+number2\n",
    "addition=number1+number2\n",
    "division=number1/number2\n",
    "substraction=number1-number2"
   ]
  },
  {
   "cell_type": "code",
   "execution_count": 48,
   "metadata": {},
   "outputs": [
    {
     "name": "stdout",
     "output_type": "stream",
     "text": [
      "This is Printer app\n",
      "This app is made by: kake\n",
      "value of number1 is 9 .\n",
      "value of number2 is  3 .\n",
      "9 * 3 = 12\n",
      "9 + 3 = 12\n",
      "9 / 3 = 3.0\n",
      "9 - 3 = 6\n"
     ]
    }
   ],
   "source": [
    "print(\"This is Printer app\")\n",
    "print(\"This app is made by: \"+creator)\n",
    "#tämä on kommentti\n",
    "#print(number1)\n",
    "print(\"value of number1 is\",number1,\".\")\n",
    "print(\"value of number2 is \",number2,\".\")\n",
    "print(number1,\"*\",number2,\"=\",multiplication)\n",
    "print(number1,\"+\",number2,\"=\",addition)\n",
    "print(number1,\"/\",number2,\"=\",division)\n",
    "print(number1,\"-\",number2,\"=\",substraction)\n"
   ]
  }
 ],
 "metadata": {
  "kernelspec": {
   "display_name": "Python 3",
   "language": "python",
   "name": "python3"
  },
  "language_info": {
   "codemirror_mode": {
    "name": "ipython",
    "version": 3
   },
   "file_extension": ".py",
   "mimetype": "text/x-python",
   "name": "python",
   "nbconvert_exporter": "python",
   "pygments_lexer": "ipython3",
   "version": "3.12.0"
  }
 },
 "nbformat": 4,
 "nbformat_minor": 2
}
